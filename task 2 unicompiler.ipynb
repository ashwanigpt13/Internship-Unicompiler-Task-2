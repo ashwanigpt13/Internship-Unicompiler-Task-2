{
 "cells": [
  {
   "cell_type": "code",
   "execution_count": 770,
   "id": "b62162cb",
   "metadata": {},
   "outputs": [],
   "source": [
    "def VideoUrl():\n",
    "    downloadbartextlabel.configure(text=\"\")\n",
    "    downloadlabelresult.configure(text=\"\")\n",
    "    downloadsizelabelresult.configure(text=\"\")\n",
    "    downloadtimeleft.configure(text=\"\")\n",
    "    getdetail=threading.Thread(target=getvideo)\n",
    "    getdetail.start()\n",
    "    "
   ]
  },
  {
   "cell_type": "code",
   "execution_count": 771,
   "id": "89c043b1",
   "metadata": {},
   "outputs": [],
   "source": [
    "def getvideo():\n",
    "    global streams\n",
    "    ListBox.delete(0,END)\n",
    "    url=urltext.get()\n",
    "    data = pafy.new(url)\n",
    "    streams = data.allstreams\n",
    "    index=0\n",
    "    for i in streams:\n",
    "        du='{:0.1f}'.format(i.get_filesize()//(1024*1024))\n",
    "        datas=str(index) + '.'.ljust(3,' ')+str(i.quality).ljust(12,' ')+ str(i.extension).ljust(10,' ')+ str(i.mediatype) + ' ' + du.rjust(10,' ') + \"MB\"\n",
    "        ListBox.insert(END,datas) \n",
    "        index += 1"
   ]
  },
  {
   "cell_type": "code",
   "execution_count": 772,
   "id": "75d47870",
   "metadata": {},
   "outputs": [],
   "source": [
    "def SelectCursor(evt):\n",
    "    global downloadindex\n",
    "    listboxdata= ListBox.get(ListBox.curselection())\n",
    "    print(listboxdata)\n",
    "    downloadstream=listboxdata[:3]\n",
    "    downloadindex=int(''.join(x for x in downloadstream if x.isdigit()))\n",
    "    "
   ]
  },
  {
   "cell_type": "code",
   "execution_count": 773,
   "id": "533c59c5",
   "metadata": {},
   "outputs": [],
   "source": [
    "def DownloadVideo():\n",
    "    getdata=threading.Thread(target=downloadvdata)\n",
    "    getdata.start()\n",
    "    "
   ]
  },
  {
   "cell_type": "code",
   "execution_count": 774,
   "id": "cd7816a2",
   "metadata": {},
   "outputs": [],
   "source": [
    "def downloadvdata():\n",
    "    global downloadindex\n",
    "    fgr= filedialog.askdirectory()\n",
    "    downloadbartextlabel.configure(text=\"Downloading...\")\n",
    "    \n",
    "    def mycallback(total, recvd, ratio, rate, eta):\n",
    "        global total12\n",
    "        total12 = float('{:.5}'.format(total/(1024*1024)))\n",
    "        downloadprogress.configure(maximum=total12)\n",
    "        recieved1 = '{:.5} mb'.format(recvd / (1024 * 1024))\n",
    "        eta1 = '{:.2f} sec'.format(eta)\n",
    "        downloadsizelabelresult.configure(text=total12)\n",
    "        downloadlabelresult.configure(text=recieved1)\n",
    "        downloadtimeleft.configure(text=eta1)\n",
    "        downloadprogress['value'] = recvd/(1024*1024)\n",
    "    \n",
    "    streams[downloadindex].download(filepath=fgr,quiet=True,callback=mycallback)\n",
    "    downloadbartextlabel.configure(text=\"Downloaded\")"
   ]
  },
  {
   "cell_type": "code",
   "execution_count": 775,
   "id": "ba1d17ae",
   "metadata": {},
   "outputs": [],
   "source": [
    "from tkinter import *\n",
    "from tkinter import filedialog\n",
    "from tkinter.ttk import Progressbar\n",
    "import threading\n",
    "import pafy\n"
   ]
  },
  {
   "cell_type": "code",
   "execution_count": 776,
   "id": "690ae1c1",
   "metadata": {},
   "outputs": [],
   "source": [
    "root=Tk()\n",
    "root.title('YOUTUBE')\n",
    "root.geometry('650x700')\n",
    "root.configure(bg='black')\n",
    "root.attributes()\n",
    "root.resizable(False,False)\n",
    "\n",
    "downloadindex = 0\n",
    "total12 = 0\n",
    "streams = \"\""
   ]
  },
  {
   "cell_type": "code",
   "execution_count": 777,
   "id": "098ccec7",
   "metadata": {},
   "outputs": [],
   "source": [
    "#scrollbar\n",
    "scrollbar=Scrollbar(root)\n",
    "scrollbar.place(x=305,y=200,height=195,width=20)"
   ]
  },
  {
   "cell_type": "code",
   "execution_count": 778,
   "id": "81911f5a",
   "metadata": {},
   "outputs": [],
   "source": [
    "urltext=StringVar()\n",
    "UrlEntry= Entry(root,textvariable=urltext, font=('arial',20,'italic bold'),width=21)\n",
    "UrlEntry.place(x=20,y=150)"
   ]
  },
  {
   "cell_type": "code",
   "execution_count": 779,
   "id": "3f38b9c0",
   "metadata": {},
   "outputs": [],
   "source": [
    "#labels\n",
    "introlabel= Label(root,text='Youtube Downloader',width=20,relief='ridge',bd=4,font=('Bernard',24,'bold'),fg='red')\n",
    "introlabel.place(x=110,y=20)"
   ]
  },
  {
   "cell_type": "code",
   "execution_count": 780,
   "id": "2761a6cc",
   "metadata": {},
   "outputs": [
    {
     "data": {
      "text/plain": [
       "'2138459749184SelectCursor'"
      ]
     },
     "execution_count": 780,
     "metadata": {},
     "output_type": "execute_result"
    }
   ],
   "source": [
    "ListBox= Listbox(root,yscrollcommand=scrollbar.set,width=31,height=10,font=('arial',12,'italic bold'),relief='ridge',bd=2,highlightcolor='red',highlightbackground='orange',highlightthickness=2)\n",
    "ListBox.place(x=20,y=200)\n",
    "ListBox.bind(\"<<ListboxSelect>>\",SelectCursor)\n"
   ]
  },
  {
   "cell_type": "code",
   "execution_count": 781,
   "id": "643f57f4",
   "metadata": {},
   "outputs": [],
   "source": [
    "downloadsizelabel= Label(root,text='Total Size :',font=('arial',15,'italic bold'),bg='black',fg='red')\n",
    "downloadsizelabel.place(x=325,y=200)"
   ]
  },
  {
   "cell_type": "code",
   "execution_count": 782,
   "id": "2a41a4bc",
   "metadata": {},
   "outputs": [],
   "source": [
    "downloadlabel= Label(root,text='Downloaded Size :',font=('arial',15,'italic bold'),bg='black',fg='red')\n",
    "downloadlabel.place(x=325,y=250)"
   ]
  },
  {
   "cell_type": "code",
   "execution_count": 783,
   "id": "b1a9ed05",
   "metadata": {},
   "outputs": [],
   "source": [
    "downloadtime= Label(root,text='Time Left :',font=('arial',15,'italic bold'),bg='black',fg='red')\n",
    "downloadtime.place(x=325,y=300)"
   ]
  },
  {
   "cell_type": "code",
   "execution_count": 784,
   "id": "0c33f329",
   "metadata": {},
   "outputs": [],
   "source": [
    "downloadsizelabelresult= Label(root,text=' ',font=('arial',15,'italic bold'),bg='black',fg='red')\n",
    "downloadsizelabelresult.place(x=475,y=200)"
   ]
  },
  {
   "cell_type": "code",
   "execution_count": 785,
   "id": "2f4e02d2",
   "metadata": {},
   "outputs": [],
   "source": [
    "downloadlabelresult= Label(root,text='',font=('arial',15,'italic bold'),bg='black',fg='red')\n",
    "downloadlabelresult.place(x=495,y=250)"
   ]
  },
  {
   "cell_type": "code",
   "execution_count": 786,
   "id": "8addbb25",
   "metadata": {},
   "outputs": [],
   "source": [
    "downloadtimeleft= Label(root,text=' ',font=('arial',15,'italic bold'),bg='black',fg='red')\n",
    "downloadtimeleft.place(x=475,y=300)"
   ]
  },
  {
   "cell_type": "code",
   "execution_count": 787,
   "id": "3a73360b",
   "metadata": {},
   "outputs": [],
   "source": [
    "downloadbartextlabel= Label(root,text='Press Download Button To Start',width=26,font=('arial',10,'italic bold'),fg='red',bg='black')\n",
    "downloadbartextlabel.place(x=295,y=415)"
   ]
  },
  {
   "cell_type": "code",
   "execution_count": 788,
   "id": "51eeb537",
   "metadata": {},
   "outputs": [],
   "source": [
    "dowlnloadprogresslabel=Label(root,text='',width=26,font=('arial',13,'italic bold'),fg='red',bg='black',relief='raised')\n",
    "dowlnloadprogresslabel.place(x=20,y=405)"
   ]
  },
  {
   "cell_type": "code",
   "execution_count": 789,
   "id": "3ca2483d",
   "metadata": {},
   "outputs": [],
   "source": [
    "downloadprogress=Progressbar(dowlnloadprogresslabel,orient= HORIZONTAL,value=0,length=100)\n",
    "downloadprogress.grid(row=0,column=0,ipadx=85,ipady=3)"
   ]
  },
  {
   "cell_type": "code",
   "execution_count": 790,
   "id": "6db95c76",
   "metadata": {},
   "outputs": [],
   "source": [
    "ClickButton=Button(root,text='Submit Url',font=('Arial',10,'italic bold'),bg='grey',fg='white',activebackground='olivedrab1',width=10,bd=8,command=VideoUrl)\n",
    "ClickButton.place(x=400,y=150)"
   ]
  },
  {
   "cell_type": "code",
   "execution_count": 791,
   "id": "aaa16f91",
   "metadata": {},
   "outputs": [],
   "source": [
    "DownloadButton= Button(root,text='Download',font=('Arial',10,'italic bold'),bg='red',fg='white',activebackground='olivedrab1',width=10,bd=8,command=DownloadVideo)\n",
    "DownloadButton.place(x=400,y=370)"
   ]
  },
  {
   "cell_type": "code",
   "execution_count": 792,
   "id": "0f29c231",
   "metadata": {},
   "outputs": [],
   "source": [
    "root.mainloop()"
   ]
  }
 ],
 "metadata": {
  "kernelspec": {
   "display_name": "Python 3 (ipykernel)",
   "language": "python",
   "name": "python3"
  },
  "language_info": {
   "codemirror_mode": {
    "name": "ipython",
    "version": 3
   },
   "file_extension": ".py",
   "mimetype": "text/x-python",
   "name": "python",
   "nbconvert_exporter": "python",
   "pygments_lexer": "ipython3",
   "version": "3.9.7"
  }
 },
 "nbformat": 4,
 "nbformat_minor": 5
}
